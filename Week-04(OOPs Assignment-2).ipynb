{
 "cells": [
  {
   "cell_type": "markdown",
   "id": "c4bedc9c",
   "metadata": {},
   "source": [
    "### Q1"
   ]
  },
  {
   "cell_type": "code",
   "execution_count": 20,
   "id": "97ab0204",
   "metadata": {},
   "outputs": [],
   "source": [
    "#Abstraction in OOPs is the process of hiding the implementation details of an object from the user. This allows the user to focus on the essential features of the object without having to worry about how it works internally."
   ]
  },
  {
   "cell_type": "code",
   "execution_count": 3,
   "id": "bd67e441",
   "metadata": {},
   "outputs": [],
   "source": [
    "from abc import ABC,abstractmethod\n",
    "\n",
    "class car(ABC):\n",
    "    def show(self):\n",
    "        print(\"Every car has 4 wheels.\")\n",
    "    @abstractmethod   \n",
    "    def speed(self):\n",
    "        pass\n",
    "    \n",
    "class maruti(car):\n",
    "    def speed(self):\n",
    "        print('Speed is 100km/hr')\n",
    "        \n",
    "class suzuki(car):\n",
    "    def speed(self):\n",
    "        print(\"speed is 80km/hr\")"
   ]
  },
  {
   "cell_type": "code",
   "execution_count": 4,
   "id": "657cf848",
   "metadata": {},
   "outputs": [],
   "source": [
    "obj=maruti()"
   ]
  },
  {
   "cell_type": "code",
   "execution_count": 5,
   "id": "97c257c7",
   "metadata": {},
   "outputs": [
    {
     "name": "stdout",
     "output_type": "stream",
     "text": [
      "Every car has 4 wheels.\n"
     ]
    }
   ],
   "source": [
    "obj.show()"
   ]
  },
  {
   "cell_type": "code",
   "execution_count": 6,
   "id": "238da616",
   "metadata": {},
   "outputs": [
    {
     "name": "stdout",
     "output_type": "stream",
     "text": [
      "Speed is 100km/hr\n"
     ]
    }
   ],
   "source": [
    "obj.speed()"
   ]
  },
  {
   "cell_type": "code",
   "execution_count": 7,
   "id": "9491d046",
   "metadata": {},
   "outputs": [],
   "source": [
    "obj1=suzuki()"
   ]
  },
  {
   "cell_type": "code",
   "execution_count": 8,
   "id": "c55aba20",
   "metadata": {},
   "outputs": [
    {
     "name": "stdout",
     "output_type": "stream",
     "text": [
      "Every car has 4 wheels.\n"
     ]
    }
   ],
   "source": [
    "obj1.show()"
   ]
  },
  {
   "cell_type": "code",
   "execution_count": 9,
   "id": "a3cd38f2",
   "metadata": {},
   "outputs": [
    {
     "name": "stdout",
     "output_type": "stream",
     "text": [
      "speed is 80km/hr\n"
     ]
    }
   ],
   "source": [
    "obj1.speed()"
   ]
  },
  {
   "cell_type": "markdown",
   "id": "a78da546",
   "metadata": {},
   "source": [
    "### Q2"
   ]
  },
  {
   "cell_type": "markdown",
   "id": "5db10f74",
   "metadata": {},
   "source": [
    "### Q3"
   ]
  },
  {
   "cell_type": "code",
   "execution_count": 10,
   "id": "085cd8e2",
   "metadata": {},
   "outputs": [],
   "source": [
    "#The abc module in Python is a module that provides the infrastructure for defining abstract base classes in Python.\n",
    "#It is use for achieving the abstraction."
   ]
  },
  {
   "cell_type": "markdown",
   "id": "a44336d0",
   "metadata": {},
   "source": [
    "### Q4"
   ]
  },
  {
   "cell_type": "code",
   "execution_count": 11,
   "id": "8e990934",
   "metadata": {},
   "outputs": [],
   "source": [
    "#Data abstraction can be achieved by using interfaces and abstract classes, which define the essential features of an object without specifying the details."
   ]
  },
  {
   "cell_type": "markdown",
   "id": "a63d4717",
   "metadata": {},
   "source": [
    "### Q5"
   ]
  },
  {
   "cell_type": "code",
   "execution_count": 12,
   "id": "f7c8d8b7",
   "metadata": {},
   "outputs": [],
   "source": [
    "#No we can not create the instance of a abstract class. An abstract class can have abstract methods, which are methods that are declared without a body, and abstract properties therefore we can't create a instance of a abstract class."
   ]
  },
  {
   "cell_type": "code",
   "execution_count": null,
   "id": "a2769bec",
   "metadata": {},
   "outputs": [],
   "source": []
  },
  {
   "cell_type": "code",
   "execution_count": null,
   "id": "ecf16a2d",
   "metadata": {},
   "outputs": [],
   "source": []
  },
  {
   "cell_type": "code",
   "execution_count": null,
   "id": "6da8ad7b",
   "metadata": {},
   "outputs": [],
   "source": []
  },
  {
   "cell_type": "code",
   "execution_count": null,
   "id": "d65cf1b9",
   "metadata": {},
   "outputs": [],
   "source": []
  },
  {
   "cell_type": "code",
   "execution_count": null,
   "id": "a3f29923",
   "metadata": {},
   "outputs": [],
   "source": []
  },
  {
   "cell_type": "code",
   "execution_count": null,
   "id": "d939b680",
   "metadata": {},
   "outputs": [],
   "source": []
  },
  {
   "cell_type": "code",
   "execution_count": null,
   "id": "a93778db",
   "metadata": {},
   "outputs": [],
   "source": []
  },
  {
   "cell_type": "code",
   "execution_count": null,
   "id": "628230f1",
   "metadata": {},
   "outputs": [],
   "source": []
  },
  {
   "cell_type": "code",
   "execution_count": null,
   "id": "5e973a20",
   "metadata": {},
   "outputs": [],
   "source": []
  },
  {
   "cell_type": "code",
   "execution_count": null,
   "id": "51fc20fd",
   "metadata": {},
   "outputs": [],
   "source": []
  },
  {
   "cell_type": "code",
   "execution_count": null,
   "id": "df5878e0",
   "metadata": {},
   "outputs": [],
   "source": []
  },
  {
   "cell_type": "code",
   "execution_count": null,
   "id": "2f1e9631",
   "metadata": {},
   "outputs": [],
   "source": []
  }
 ],
 "metadata": {
  "kernelspec": {
   "display_name": "Python 3 (ipykernel)",
   "language": "python",
   "name": "python3"
  },
  "language_info": {
   "codemirror_mode": {
    "name": "ipython",
    "version": 3
   },
   "file_extension": ".py",
   "mimetype": "text/x-python",
   "name": "python",
   "nbconvert_exporter": "python",
   "pygments_lexer": "ipython3",
   "version": "3.9.13"
  }
 },
 "nbformat": 4,
 "nbformat_minor": 5
}
